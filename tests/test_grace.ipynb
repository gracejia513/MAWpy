{
 "cells": [
  {
   "cell_type": "code",
   "execution_count": 1,
   "metadata": {},
   "outputs": [],
   "source": [
    "# this ipynb file is for Grace's informal testing of the code and can be removed later"
   ]
  },
  {
   "cell_type": "code",
   "execution_count": 2,
   "metadata": {},
   "outputs": [],
   "source": [
    "import pandas as pd"
   ]
  },
  {
   "cell_type": "code",
   "execution_count": 11,
   "metadata": {},
   "outputs": [
    {
     "name": "stdout",
     "output_type": "stream",
     "text": [
      "     unix_start_t                                            user_ID  mark_1  \\\n",
      "0      1552522827  f98247efb013243c91c247aa6c6e119e71404a698005d1...       0   \n",
      "1      1552850582  f98247efb013243c91c247aa6c6e119e71404a698005d1...       0   \n",
      "2      1552851399  f98247efb013243c91c247aa6c6e119e71404a698005d1...       0   \n",
      "3      1553827223  f98247efb013243c91c247aa6c6e119e71404a698005d1...       0   \n",
      "4      1553840035  f98247efb013243c91c247aa6c6e119e71404a698005d1...       0   \n",
      "..            ...                                                ...     ...   \n",
      "468    1556522638  5b60012041533aca8a11b86cc391e1ae0ca7e0a9de6e2e...       1   \n",
      "469    1572928357  5b60012041533aca8a11b86cc391e1ae0ca7e0a9de6e2e...       1   \n",
      "470    1572928752  5b60012041533aca8a11b86cc391e1ae0ca7e0a9de6e2e...       1   \n",
      "471    1572928936  5b60012041533aca8a11b86cc391e1ae0ca7e0a9de6e2e...       1   \n",
      "472    1573784295  5b60012041533aca8a11b86cc391e1ae0ca7e0a9de6e2e...       1   \n",
      "\n",
      "      orig_lat   orig_long  orig_unc  stay_lat  stay_long  stay_unc  stay_dur  \\\n",
      "0    47.651589 -122.327397       900        -1         -1        -1        -1   \n",
      "1    47.999315 -122.221824       122        -1         -1        -1        -1   \n",
      "2    47.999042 -122.221574       104        -1         -1        -1        -1   \n",
      "3    47.590755 -122.330222       103        -1         -1        -1        -1   \n",
      "4    47.998033 -122.221373       128        -1         -1        -1        -1   \n",
      "..         ...         ...       ...       ...        ...       ...       ...   \n",
      "468  47.541382 -122.380655       165        -1         -1        -1        -1   \n",
      "469  47.544861 -122.387514       165        -1         -1        -1        -1   \n",
      "470  47.545105 -122.387461       165        -1         -1        -1        -1   \n",
      "471  47.537231 -122.383966       165        -1         -1        -1        -1   \n",
      "472  47.567474 -122.365098       165        -1         -1        -1        -1   \n",
      "\n",
      "     stay_ind  human_start_t  \n",
      "0          -1   190313162027  \n",
      "1          -1   190317122302  \n",
      "2          -1   190317123639  \n",
      "3          -1   190328194023  \n",
      "4          -1   190328231355  \n",
      "..        ...            ...  \n",
      "468        -1   190429002358  \n",
      "469        -1   191104203237  \n",
      "470        -1   191104203912  \n",
      "471        -1   191104204216  \n",
      "472        -1   191114181815  \n",
      "\n",
      "[472 rows x 12 columns]\n"
     ]
    }
   ],
   "source": [
    "\n",
    "# List of IDs to filter\n",
    "id_list = [\n",
    "            '2625647e11173f95ef14599c4835355cfe2f492adb3a2e1a7a47748760345612',\n",
    "            '3ab7c1282d7c0ed632f93d6ca1c81ef0bf74351f50b8cb9eafe4167004ca373a',\n",
    "            '3ea9e7e79431fc8fcc2fb447ee0dfc6a9fca74cc9e54558b80785b8577f6f37f',\n",
    "            '5b60012041533aca8a11b86cc391e1ae0ca7e0a9de6e2eadba332b6d66825bf6',\n",
    "            '6db93f996408d398cebdb6ef77e68f88aaafc714d4ff05d914fcc4397eb8e94c',\n",
    "            '97c849caf2367a58377e946eb575484fc691e6eb7bb15ceeed48b72ff7d9c64e',\n",
    "            'd01a212a23148fa52244ce75d247e35d53f96cd6d8b353b0b3e37a873e955527',\n",
    "            'f32492e1387ee27bb34969fb5988bf48324408295372721b9bd7b4816a9cedf4',\n",
    "            'f98247efb013243c91c247aa6c6e119e71404a698005d1e3ee7654f17130cb25']\n",
    "\n",
    "\n",
    "\n",
    "# Load the CSV file into a DataFrame\n",
    "df = pd.read_csv('input_file.csv')\n",
    "\n",
    "# Filter the DataFrame to select only the rows with the specified IDs\n",
    "filtered_df = df[df['user_ID'].isin(id_list)]\n",
    "\n",
    "# Display the filtered DataFrame\n",
    "print(filtered_df)\n",
    "\n",
    "# Optionally, save the filtered DataFrame to a new CSV file\n",
    "filtered_df.to_csv('input_file_9_users.csv', index=False)"
   ]
  },
  {
   "cell_type": "code",
   "execution_count": 6,
   "metadata": {},
   "outputs": [],
   "source": [
    "output = pd.read_csv('output_file_9_users.csv')"
   ]
  },
  {
   "cell_type": "code",
   "execution_count": 17,
   "metadata": {},
   "outputs": [
    {
     "data": {
      "text/plain": [
       "0      1\n",
       "1      2\n",
       "2      3\n",
       "3      4\n",
       "4      5\n",
       "      ..\n",
       "467    6\n",
       "468    6\n",
       "469    6\n",
       "470    6\n",
       "471    7\n",
       "Name: stay, Length: 472, dtype: int64"
      ]
     },
     "execution_count": 17,
     "metadata": {},
     "output_type": "execute_result"
    }
   ],
   "source": [
    "output['stay']"
   ]
  },
  {
   "cell_type": "code",
   "execution_count": 15,
   "metadata": {},
   "outputs": [],
   "source": [
    "output_new = pd.read_csv('/Users/gracejia/Documents/A-UW/dissertation/street_furniture/escience/MAWpy/src/mawpy/workflows/output_file_10_users.csv')"
   ]
  },
  {
   "cell_type": "code",
   "execution_count": 16,
   "metadata": {},
   "outputs": [
    {
     "data": {
      "text/plain": [
       "51"
      ]
     },
     "execution_count": 16,
     "metadata": {},
     "output_type": "execute_result"
    }
   ],
   "source": [
    "output_new['stay'].nunique()"
   ]
  },
  {
   "cell_type": "code",
   "execution_count": null,
   "metadata": {},
   "outputs": [],
   "source": []
  }
 ],
 "metadata": {
  "kernelspec": {
   "display_name": ".venv",
   "language": "python",
   "name": "python3"
  },
  "language_info": {
   "codemirror_mode": {
    "name": "ipython",
    "version": 3
   },
   "file_extension": ".py",
   "mimetype": "text/x-python",
   "name": "python",
   "nbconvert_exporter": "python",
   "pygments_lexer": "ipython3",
   "version": "3.11.5"
  }
 },
 "nbformat": 4,
 "nbformat_minor": 2
}
